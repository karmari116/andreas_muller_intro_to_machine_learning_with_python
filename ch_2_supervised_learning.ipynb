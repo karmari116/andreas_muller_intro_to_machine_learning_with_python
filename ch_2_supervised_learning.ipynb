{
 "cells": [
  {
   "cell_type": "markdown",
   "metadata": {},
   "source": [
    "# Chapter 2 - Supervised learning"
   ]
  },
  {
   "cell_type": "markdown",
   "metadata": {},
   "source": [
    "Remember that supervised learning is used whenever we want to predict a certain\n",
    "outcome from a given input, and we have examples of input/output pairs. We build a\n",
    "machine learning model from these input/output pairs, which comprise our training\n",
    "set. Our goal is to make accurate predictions for new, never-before-seen data. Supervised\n",
    "learning often requires human effort to build the training set, but afterward\n",
    "automates and often speeds up an otherwise laborious or infeasible task."
   ]
  },
  {
   "cell_type": "markdown",
   "metadata": {},
   "source": [
    "## Classification and Regression\n",
    "\n",
    "In classification, the goal is to predict a class label, which is a choice from a predefined\n",
    "list of possibilities.\n",
    "\n",
    "For regression tasks, the goal is to predict a continuous number, or a floating-point\n",
    "number in programming terms."
   ]
  },
  {
   "cell_type": "markdown",
   "metadata": {},
   "source": [
    "## Generalization, overfitting and underfitting\n",
    "\n",
    "In supervised learning, we want to build a model on the training data and then be\n",
    "able to make accurate predictions on new, unseen data that has the same characteristics\n",
    "as the training set that we used.\n",
    "\n",
    "If a model is able to make accurate predictions on\n",
    "unseen data, we say it is able to generalize from the training set to the test set. We\n",
    "want to build a model that is able to generalize as accurately as possible.\n",
    "\n",
    "Overfitting\n",
    "occurs when you fit a model too closely to the particularities of the training set and\n",
    "obtain a model that works well on the training set but is not able to generalize to new\n",
    "data. On the other hand, if your model is too simple—say, “Everybody who owns a\n",
    "house buys a boat”—then you might not be able to capture all the aspects of and variability\n",
    "in the data, and your model will do badly even on the training set. Choosing\n",
    "too simple a model is called underfitting.\n",
    "\n",
    "The more complex we allow our model to be, the better we will be able to predict on\n",
    "the training data. However, if our model becomes too complex, we start focusing too\n",
    "much on each individual data point in our training set, and the model will not generalize\n",
    "well to new data.\n",
    "\n",
    "There is a sweet spot in between that will yield the best generalization performance.\n",
    "This is the model we want to find.\n",
    "\n",
    "![IRIS](resources/ch_2_1.png)"
   ]
  },
  {
   "cell_type": "markdown",
   "metadata": {},
   "source": [
    "## Relation of Model Complexity to Dataset Size\n",
    "\n",
    "It’s important to note that model complexity is intimately tied to the variation of\n",
    "inputs contained in your training dataset: the larger variety of data points your dataset\n",
    "contains, the more complex a model you can use without overfitting. Usually, collecting\n",
    "more data points will yield more variety, so larger datasets allow building\n",
    "more complex models. However, simply duplicating the same data points or collecting\n",
    "very similar data will not help.\n",
    "\n",
    "Going back to the boat selling example, if we saw 10,000 more rows of customer data,\n",
    "and all of them complied with the rule “If the customer is older than 45, and has less\n",
    "than 3 children or is not divorced, then they want to buy a boat,” we would be much\n",
    "more likely to believe this to be a good rule than when it was developed using only\n",
    "the 12 rows in Table 2-1.\n",
    "\n",
    "Having more data and building appropriately more complex models can often work\n",
    "wonders for supervised learning tasks. In this book, we will focus on working with\n",
    "datasets of fixed sizes. In the real world, you often have the ability to decide how\n",
    "much data to collect, which might be more beneficial than tweaking and tuning your\n",
    "model. Never underestimate the power of more data."
   ]
  },
  {
   "cell_type": "markdown",
   "metadata": {},
   "source": [
    "## Some Sample Datasets\n",
    "\n",
    "We will use several datasets to illustrate the different algorithms. Some of the datasets\n",
    "will be small and synthetic (meaning made-up), designed to highlight particular\n",
    "aspects of the algorithms. Other datasets will be large, real-world examples.\n",
    "\n",
    "An example of a synthetic two-class classification dataset is the forge dataset, which\n",
    "has two features. The following code creates a scatter plot (Figure 2-2) visualizing all\n",
    "of the data points in this dataset. The plot has the first feature on the x-axis and the\n",
    "second feature on the y-axis. As is always the case in scatter plots, each data point is\n",
    "represented as one dot. The color and shape of the dot indicates its class:"
   ]
  },
  {
   "cell_type": "code",
   "execution_count": 10,
   "metadata": {
    "collapsed": true
   },
   "outputs": [],
   "source": [
    "import mglearn\n",
    "import matplotlib.pyplot as plt\n",
    "\n",
    "%matplotlib inline"
   ]
  },
  {
   "cell_type": "code",
   "execution_count": 11,
   "metadata": {
    "collapsed": false
   },
   "outputs": [
    {
     "name": "stdout",
     "output_type": "stream",
     "text": [
      "X.shape: (26, 2)\n"
     ]
    },
    {
     "data": {
      "image/png": "[encoded data removed]",
      "text/plain": [
       "<matplotlib.figure.Figure at 0x11c422a90>"
      ]
     },
     "metadata": {},
     "output_type": "display_data"
    }
   ],
   "source": [
    "X, y = mglearn.datasets.make_forge()\n",
    "\n",
    "mglearn.discrete_scatter(X[:, 0], X[:, 1], y)\n",
    "plt.legend([\"Class 0\", \"Class 1\"], loc=4)\n",
    "plt.xlabel(\"First feature\")\n",
    "plt.ylabel(\"Second feature\")\n",
    "print(\"X.shape: {}\".format(X.shape))"
   ]
  },
  {
   "cell_type": "markdown",
   "metadata": {},
   "source": [
    "As you can see from X.shape, this dataset consists of 26 data points, with 2 features."
   ]
  },
  {
   "cell_type": "markdown",
   "metadata": {},
   "source": [
    "To illustrate regression algorithms, we will use the synthetic wave dataset. The wave\n",
    "dataset has a single input feature and a continuous target variable (or response) that\n",
    "we want to model. The plot created here (Figure 2-3) shows the single feature on the\n",
    "x-axis and the regression target (the output) on the y-axis:"
   ]
  },
  {
   "cell_type": "code",
   "execution_count": 12,
   "metadata": {
    "collapsed": false
   },
   "outputs": [
    {
     "data": {
      "text/plain": [
       "<matplotlib.text.Text at 0x11c543550>"
      ]
     },
     "execution_count": 12,
     "metadata": {},
     "output_type": "execute_result"
    },
    {
     "data": {
      "image/png": "[encoded data removed]",
      "text/plain": [
       "<matplotlib.figure.Figure at 0x11c4225f8>"
      ]
     },
     "metadata": {},
     "output_type": "display_data"
    }
   ],
   "source": [
    "X, y = mglearn.datasets.make_wave(n_samples=40)\n",
    "plt.plot(X, y, \"o\")\n",
    "plt.ylim(-3, 3)\n",
    "plt.xlabel(\"Feature\")\n",
    "plt.ylabel(\"Target\")"
   ]
  },
  {
   "cell_type": "markdown",
   "metadata": {},
   "source": [
    "We are using these very simple, low-dimensional datasets because we can easily visualize\n",
    "them—a printed page has two dimensions, so data with more than two features\n",
    "is hard to show. Any intuition derived from datasets with few features (also called\n",
    "low-dimensional datasets) might not hold in datasets with many features (highdimensional\n",
    "datasets). As long as you keep that in mind, inspecting algorithms on\n",
    "low-dimensional datasets can be very instructive."
   ]
  },
  {
   "cell_type": "markdown",
   "metadata": {},
   "source": [
    "We will complement these small synthetic datasets with two real-world datasets that\n",
    "are included in scikit-learn. One is the Wisconsin Breast Cancer dataset (cancer,\n",
    "for short), which records clinical measurements of breast cancer tumors. Each tumor\n",
    "is labeled as “benign” (for harmless tumors) or “malignant” (for cancerous tumors),\n",
    "and the task is to learn to predict whether a tumor is malignant based on the measurements\n",
    "of the tissue."
   ]
  },
  {
   "cell_type": "code",
   "execution_count": 13,
   "metadata": {
    "collapsed": false
   },
   "outputs": [
    {
     "data": {
      "text/plain": [
       "dict_keys(['data', 'target', 'target_names', 'DESCR', 'feature_names'])"
      ]
     },
     "execution_count": 13,
     "metadata": {},
     "output_type": "execute_result"
    }
   ],
   "source": [
    "from sklearn.datasets import load_breast_cancer\n",
    "cancer = load_breast_cancer()\n",
    "cancer.keys()"
   ]
  },
  {
   "cell_type": "markdown",
   "metadata": {},
   "source": [
    "Datasets that are included in scikit-learn are usually stored as\n",
    "Bunch objects, which contain some information about the dataset\n",
    "as well as the actual data. All you need to know about Bunch objects\n",
    "is that they behave like dictionaries, with the added benefit that you\n",
    "can access values using a dot (as in bunch.key instead of\n",
    "bunch['key'])."
   ]
  },
  {
   "cell_type": "markdown",
   "metadata": {},
   "source": [
    "The dataset consists of 569 data points, with 30 features each:"
   ]
  },
  {
   "cell_type": "code",
   "execution_count": 14,
   "metadata": {
    "collapsed": false
   },
   "outputs": [
    {
     "data": {
      "text/plain": [
       "(569, 30)"
      ]
     },
     "execution_count": 14,
     "metadata": {},
     "output_type": "execute_result"
    }
   ],
   "source": [
    "cancer.data.shape"
   ]
  },
  {
   "cell_type": "markdown",
   "metadata": {},
   "source": [
    "Of these 569 data points, 212 are labeled as malignant and 357 as benign:"
   ]
  },
  {
   "cell_type": "code",
   "execution_count": 16,
   "metadata": {
    "collapsed": true
   },
   "outputs": [],
   "source": [
    "import numpy as np"
   ]
  },
  {
   "cell_type": "code",
   "execution_count": 17,
   "metadata": {
    "collapsed": false
   },
   "outputs": [
    {
     "name": "stdout",
     "output_type": "stream",
     "text": [
      "Sample counts per class: \n",
      "{'malignant': 212, 'benign': 357}\n"
     ]
    }
   ],
   "source": [
    "print(\"Sample counts per class: \\n{}\".format(\n",
    "     {n: v for n, v in zip(cancer.target_names, np.bincount(cancer.target))}))"
   ]
  },
  {
   "cell_type": "markdown",
   "metadata": {},
   "source": [
    "To get a description of the semantic meaning of each feature, we can have a look at\n",
    "the feature_names attribute:"
   ]
  },
  {
   "cell_type": "code",
   "execution_count": 18,
   "metadata": {
    "collapsed": false
   },
   "outputs": [
    {
     "data": {
      "text/plain": [
       "array(['mean radius', 'mean texture', 'mean perimeter', 'mean area',\n",
       "       'mean smoothness', 'mean compactness', 'mean concavity',\n",
       "       'mean concave points', 'mean symmetry', 'mean fractal dimension',\n",
       "       'radius error', 'texture error', 'perimeter error', 'area error',\n",
       "       'smoothness error', 'compactness error', 'concavity error',\n",
       "       'concave points error', 'symmetry error', 'fractal dimension error',\n",
       "       'worst radius', 'worst texture', 'worst perimeter', 'worst area',\n",
       "       'worst smoothness', 'worst compactness', 'worst concavity',\n",
       "       'worst concave points', 'worst symmetry', 'worst fractal dimension'], \n",
       "      dtype='<U23')"
      ]
     },
     "execution_count": 18,
     "metadata": {},
     "output_type": "execute_result"
    }
   ],
   "source": [
    "cancer.feature_names"
   ]
  },
  {
   "cell_type": "markdown",
   "metadata": {},
   "source": [
    "You can find out more about the data by reading cancer.DESCR if you are interested."
   ]
  },
  {
   "cell_type": "code",
   "execution_count": 19,
   "metadata": {
    "collapsed": false
   },
   "outputs": [
    {
     "data": {
      "text/plain": [
       "'Breast Cancer Wisconsin (Diagnostic) Database\\n=============================================\\n\\nNotes\\n-----\\nData Set Characteristics:\\n    :Number of Instances: 569\\n\\n    :Number of Attributes: 30 numeric, predictive attributes and the class\\n\\n    :Attribute Information:\\n        - radius (mean of distances from center to points on the perimeter)\\n        - texture (standard deviation of gray-scale values)\\n        - perimeter\\n        - area\\n        - smoothness (local variation in radius lengths)\\n        - compactness (perimeter^2 / area - 1.0)\\n        - concavity (severity of concave portions of the contour)\\n        - concave points (number of concave portions of the contour)\\n        - symmetry \\n        - fractal dimension (\"coastline approximation\" - 1)\\n\\n        The mean, standard error, and \"worst\" or largest (mean of the three\\n        largest values) of these features were computed for each image,\\n        resulting in 30 features.  For instance, field 3 is Mean Radius, field\\n        13 is Radius SE, field 23 is Worst Radius.\\n\\n        - class:\\n                - WDBC-Malignant\\n                - WDBC-Benign\\n\\n    :Summary Statistics:\\n\\n    ===================================== ====== ======\\n                                           Min    Max\\n    ===================================== ====== ======\\n    radius (mean):                        6.981  28.11\\n    texture (mean):                       9.71   39.28\\n    perimeter (mean):                     43.79  188.5\\n    area (mean):                          143.5  2501.0\\n    smoothness (mean):                    0.053  0.163\\n    compactness (mean):                   0.019  0.345\\n    concavity (mean):                     0.0    0.427\\n    concave points (mean):                0.0    0.201\\n    symmetry (mean):                      0.106  0.304\\n    fractal dimension (mean):             0.05   0.097\\n    radius (standard error):              0.112  2.873\\n    texture (standard error):             0.36   4.885\\n    perimeter (standard error):           0.757  21.98\\n    area (standard error):                6.802  542.2\\n    smoothness (standard error):          0.002  0.031\\n    compactness (standard error):         0.002  0.135\\n    concavity (standard error):           0.0    0.396\\n    concave points (standard error):      0.0    0.053\\n    symmetry (standard error):            0.008  0.079\\n    fractal dimension (standard error):   0.001  0.03\\n    radius (worst):                       7.93   36.04\\n    texture (worst):                      12.02  49.54\\n    perimeter (worst):                    50.41  251.2\\n    area (worst):                         185.2  4254.0\\n    smoothness (worst):                   0.071  0.223\\n    compactness (worst):                  0.027  1.058\\n    concavity (worst):                    0.0    1.252\\n    concave points (worst):               0.0    0.291\\n    symmetry (worst):                     0.156  0.664\\n    fractal dimension (worst):            0.055  0.208\\n    ===================================== ====== ======\\n\\n    :Missing Attribute Values: None\\n\\n    :Class Distribution: 212 - Malignant, 357 - Benign\\n\\n    :Creator:  Dr. William H. Wolberg, W. Nick Street, Olvi L. Mangasarian\\n\\n    :Donor: Nick Street\\n\\n    :Date: November, 1995\\n\\nThis is a copy of UCI ML Breast Cancer Wisconsin (Diagnostic) datasets.\\nhttps://goo.gl/U2Uwz2\\n\\nFeatures are computed from a digitized image of a fine needle\\naspirate (FNA) of a breast mass.  They describe\\ncharacteristics of the cell nuclei present in the image.\\n\\nSeparating plane described above was obtained using\\nMultisurface Method-Tree (MSM-T) [K. P. Bennett, \"Decision Tree\\nConstruction Via Linear Programming.\" Proceedings of the 4th\\nMidwest Artificial Intelligence and Cognitive Science Society,\\npp. 97-101, 1992], a classification method which uses linear\\nprogramming to construct a decision tree.  Relevant features\\nwere selected using an exhaustive search in the space of 1-4\\nfeatures and 1-3 separating planes.\\n\\nThe actual linear program used to obtain the separating plane\\nin the 3-dimensional space is that described in:\\n[K. P. Bennett and O. L. Mangasarian: \"Robust Linear\\nProgramming Discrimination of Two Linearly Inseparable Sets\",\\nOptimization Methods and Software 1, 1992, 23-34].\\n\\nThis database is also available through the UW CS ftp server:\\n\\nftp ftp.cs.wisc.edu\\ncd math-prog/cpo-dataset/machine-learn/WDBC/\\n\\nReferences\\n----------\\n   - W.N. Street, W.H. Wolberg and O.L. Mangasarian. Nuclear feature extraction \\n     for breast tumor diagnosis. IS&T/SPIE 1993 International Symposium on \\n     Electronic Imaging: Science and Technology, volume 1905, pages 861-870,\\n     San Jose, CA, 1993.\\n   - O.L. Mangasarian, W.N. Street and W.H. Wolberg. Breast cancer diagnosis and \\n     prognosis via linear programming. Operations Research, 43(4), pages 570-577, \\n     July-August 1995.\\n   - W.H. Wolberg, W.N. Street, and O.L. Mangasarian. Machine learning techniques\\n     to diagnose breast cancer from fine-needle aspirates. Cancer Letters 77 (1994) \\n     163-171.\\n'"
      ]
     },
     "execution_count": 19,
     "metadata": {},
     "output_type": "execute_result"
    }
   ],
   "source": [
    "cancer.DESCR"
   ]
  },
  {
   "cell_type": "markdown",
   "metadata": {},
   "source": [
    "We will also be using a real-world regression dataset, the Boston Housing dataset.\n",
    "The task associated with this dataset is to predict the median value of homes in several\n",
    "Boston neighborhoods in the 1970s, using information such as crime rate, proximity\n",
    "to the Charles River, highway accessibility, and so on. The dataset contains 506\n",
    "data points, described by 13 features:"
   ]
  },
  {
   "cell_type": "code",
   "execution_count": 20,
   "metadata": {
    "collapsed": true
   },
   "outputs": [],
   "source": [
    "from sklearn.datasets import load_boston\n",
    "boston = load_boston()"
   ]
  },
  {
   "cell_type": "code",
   "execution_count": 22,
   "metadata": {
    "collapsed": false
   },
   "outputs": [
    {
     "data": {
      "text/plain": [
       "(506, 13)"
      ]
     },
     "execution_count": 22,
     "metadata": {},
     "output_type": "execute_result"
    }
   ],
   "source": [
    "boston.data.shape"
   ]
  },
  {
   "cell_type": "markdown",
   "metadata": {},
   "source": [
    "Again, you can get more information about the dataset by reading the DESCR attribute\n",
    "of boston. For our purposes here, we will actually expand this dataset by not only\n",
    "considering these 13 measurements as input features, but also looking at all products\n",
    "(also called interactions) between features. In other words, we will not only consider\n",
    "crime rate and highway accessibility as features, but also the product of crime rate\n",
    "and highway accessibility. Including derived feature like these is called feature engineering,\n",
    "which we will discuss in more detail in Chapter 4. This derived dataset can be\n",
    "loaded using the load_extended_boston function:"
   ]
  },
  {
   "cell_type": "code",
   "execution_count": 23,
   "metadata": {
    "collapsed": true
   },
   "outputs": [],
   "source": [
    "X, y = mglearn.datasets.load_extended_boston()"
   ]
  },
  {
   "cell_type": "code",
   "execution_count": 24,
   "metadata": {
    "collapsed": false
   },
   "outputs": [
    {
     "data": {
      "text/plain": [
       "(506, 104)"
      ]
     },
     "execution_count": 24,
     "metadata": {},
     "output_type": "execute_result"
    }
   ],
   "source": [
    "X.shape"
   ]
  },
  {
   "cell_type": "markdown",
   "metadata": {},
   "source": [
    "The resulting 104 features are the 13 original features together with the 91 possible\n",
    "combinations of two features within those 13. This is called the binomial coefficient, which is the number of combinations of k elements that can be selected\n",
    "from a set of n elements. Often this is written as (n k)\n",
    "and spoken as “n choose k”—in this case, “13 choose 2.”"
   ]
  },
  {
   "cell_type": "markdown",
   "metadata": {},
   "source": [
    "## 1. k-Nearest Neighbors"
   ]
  },
  {
   "cell_type": "markdown",
   "metadata": {},
   "source": [
    "The k-NN algorithm is arguably the simplest machine learning algorithm. Building\n",
    "the model consists only of storing the training dataset. To make a prediction for a\n",
    "new data point, the algorithm finds the closest data points in the training dataset—its\n",
    "“nearest neighbors.”"
   ]
  },
  {
   "cell_type": "markdown",
   "metadata": {},
   "source": [
    "### k-Neighbors classification"
   ]
  },
  {
   "cell_type": "markdown",
   "metadata": {},
   "source": [
    "In its simplest version, the k-NN algorithm only considers exactly one nearest neighbor,\n",
    "which is the closest training data point to the point we want to make a prediction\n",
    "for. The prediction is then simply the known output for this training point."
   ]
  },
  {
   "cell_type": "code",
   "execution_count": 25,
   "metadata": {
    "collapsed": false
   },
   "outputs": [
    {
     "data": {
      "image/png": "[encoded data removed]",
      "text/plain": [
       "<matplotlib.figure.Figure at 0x11c5b4cf8>"
      ]
     },
     "metadata": {},
     "output_type": "display_data"
    }
   ],
   "source": [
    "mglearn.plots.plot_knn_classification(n_neighbors=1)"
   ]
  },
  {
   "cell_type": "markdown",
   "metadata": {},
   "source": [
    "Here, we added three new data points, shown as stars. For each of them, we marked\n",
    "the closest point in the training set. The prediction of the one-nearest-neighbor algorithm\n",
    "is the label of that point (shown by the color of the cross)."
   ]
  },
  {
   "cell_type": "markdown",
   "metadata": {},
   "source": [
    "Instead of considering only the closest neighbor, we can also consider an arbitrary\n",
    "number, k, of neighbors. This is where the name of the k-nearest neighbors algorithm\n",
    "comes from. When considering more than one neighbor, we use voting to assign a\n",
    "label. This means that for each test point, we count how many neighbors belong to\n",
    "class 0 and how many neighbors belong to class 1. We then assign the class that is\n",
    "more frequent: in other words, the majority class among the k-nearest neighbors. The\n",
    "following example (Figure 2-5) uses the three closest neighbors:"
   ]
  },
  {
   "cell_type": "code",
   "execution_count": 26,
   "metadata": {
    "collapsed": false
   },
   "outputs": [
    {
     "data": {
      "image/png": "[encoded data removed]",
      "text/plain": [
       "<matplotlib.figure.Figure at 0x11c458208>"
      ]
     },
     "metadata": {},
     "output_type": "display_data"
    }
   ],
   "source": [
    "mglearn.plots.plot_knn_classification(n_neighbors=3)"
   ]
  },
  {
   "cell_type": "markdown",
   "metadata": {},
   "source": [
    "While this illustration is for a binary classification problem, this method can be\n",
    "applied to datasets with any number of classes. For more classes, we count how many\n",
    "neighbors belong to each class and again predict the most common class."
   ]
  },
  {
   "cell_type": "markdown",
   "metadata": {},
   "source": [
    "Now let’s look at how we can apply the k-nearest neighbors algorithm using scikitlearn.\n",
    "First, we split our data into a training and a test set so we can evaluate generalization\n",
    "performance, as discussed in Chapter 1:"
   ]
  },
  {
   "cell_type": "code",
   "execution_count": 33,
   "metadata": {
    "collapsed": false
   },
   "outputs": [],
   "source": [
    "from sklearn.model_selection import train_test_split\n",
    "X, y = mglearn.datasets.make_forge()\n",
    "\n",
    "X_train, X_test, y_train, y_test = train_test_split(X, y)"
   ]
  },
  {
   "cell_type": "markdown",
   "metadata": {},
   "source": [
    "Next, we import and instantiate the class. This is when we can set parameters, like the\n",
    "number of neighbors to use. Here, we set it to 3:"
   ]
  },
  {
   "cell_type": "code",
   "execution_count": 34,
   "metadata": {
    "collapsed": true
   },
   "outputs": [],
   "source": [
    "from sklearn.neighbors import KNeighborsClassifier\n",
    "knn_clf = KNeighborsClassifier(n_neighbors=3)"
   ]
  },
  {
   "cell_type": "markdown",
   "metadata": {},
   "source": [
    "Now, we fit the classifier using the training set. For KNeighborsClassifier this\n",
    "means storing the dataset, so we can compute neighbors during prediction:"
   ]
  },
  {
   "cell_type": "code",
   "execution_count": 38,
   "metadata": {
    "collapsed": false
   },
   "outputs": [
    {
     "data": {
      "text/plain": [
       "KNeighborsClassifier(algorithm='auto', leaf_size=30, metric='minkowski',\n",
       "           metric_params=None, n_jobs=1, n_neighbors=3, p=2,\n",
       "           weights='uniform')"
      ]
     },
     "execution_count": 38,
     "metadata": {},
     "output_type": "execute_result"
    }
   ],
   "source": [
    "knn_clf.fit(X_train, y_train)"
   ]
  },
  {
   "cell_type": "markdown",
   "metadata": {},
   "source": [
    "To make predictions on the test data, we call the predict method. For each data point\n",
    "in the test set, this computes its nearest neighbors in the training set and finds the\n",
    "most common class among these:"
   ]
  },
  {
   "cell_type": "code",
   "execution_count": 39,
   "metadata": {
    "collapsed": false
   },
   "outputs": [
    {
     "data": {
      "text/plain": [
       "array([1, 0, 1, 1, 1, 0, 0])"
      ]
     },
     "execution_count": 39,
     "metadata": {},
     "output_type": "execute_result"
    }
   ],
   "source": [
    "knn_clf.predict(X_test)"
   ]
  },
  {
   "cell_type": "markdown",
   "metadata": {},
   "source": [
    "To evaluate how well our model generalizes, we can call the score method with the\n",
    "test data together with the test labels:"
   ]
  },
  {
   "cell_type": "code",
   "execution_count": 40,
   "metadata": {
    "collapsed": false
   },
   "outputs": [
    {
     "data": {
      "text/plain": [
       "1.0"
      ]
     },
     "execution_count": 40,
     "metadata": {},
     "output_type": "execute_result"
    }
   ],
   "source": [
    "knn_clf.score(X_test, y_test)"
   ]
  },
  {
   "cell_type": "markdown",
   "metadata": {},
   "source": [
    "### Analyzing KNeighborsClassifier"
   ]
  },
  {
   "cell_type": "markdown",
   "metadata": {},
   "source": [
    "Let’s investigate whether we can confirm the connection between model complexity\n",
    "and generalization that we discussed earlier. We will do this on the real-world Breast\n",
    "Cancer dataset. We begin by splitting the dataset into a training and a test set. Then we evaluate training and test set performance with different numbers of neighbors."
   ]
  },
  {
   "cell_type": "code",
   "execution_count": 43,
   "metadata": {
    "collapsed": false
   },
   "outputs": [
    {
     "data": {
      "text/plain": [
       "<matplotlib.legend.Legend at 0x11c794630>"
      ]
     },
     "execution_count": 43,
     "metadata": {},
     "output_type": "execute_result"
    },
    {
     "data": {
      "image/png": "[encoded data removed]",
      "text/plain": [
       "<matplotlib.figure.Figure at 0x11c53a9e8>"
      ]
     },
     "metadata": {},
     "output_type": "display_data"
    }
   ],
   "source": [
    "from sklearn.datasets import load_breast_cancer\n",
    "\n",
    "cancer = load_breast_cancer()\n",
    "X_train, X_test, y_train, y_test = train_test_split(\n",
    "    cancer.data, cancer.target, stratify=cancer.target, random_state=66)\n",
    "\n",
    "training_accuracy = []\n",
    "test_accuracy = []\n",
    "neighbors_settings = range(1, 11)\n",
    "\n",
    "for n_neighbors in neighbors_settings:\n",
    "    knn_clf = KNeighborsClassifier(n_neighbors=n_neighbors)\n",
    "    knn_clf.fit(X_train, y_train)\n",
    "    training_accuracy.append(knn_clf.score(X_train, y_train))\n",
    "    test_accuracy.append(knn_clf.score(X_test, y_test))\n",
    "\n",
    "plt.plot(neighbors_settings, training_accuracy, label=\"training accuracy\")\n",
    "plt.plot(neighbors_settings, test_accuracy, label=\"test accuracy\")\n",
    "plt.ylabel(\"accuracy\")\n",
    "plt.xlabel(\"n_neighbors\")\n",
    "plt.legend()"
   ]
  },
  {
   "cell_type": "markdown",
   "metadata": {},
   "source": [
    "The plot shows the training and test set accuracy on the y-axis against the setting of\n",
    "n_neighbors on the x-axis. While real-world plots are rarely very smooth, we can still\n",
    "recognize some of the characteristics of overfitting and underfitting.\n",
    "\n",
    "Considering a single\n",
    "nearest neighbor, the prediction on the training set is perfect. But when more neighbors\n",
    "are considered, the model becomes simpler and the training accuracy drops. The\n",
    "test set accuracy for using a single neighbor is lower than when using more neighbors,\n",
    "indicating that using the single nearest neighbor leads to a model that is too\n",
    "complex. On the other hand, when considering 10 neighbors, the model is too simple\n",
    "and performance is even worse. The best performance is somewhere in the middle,\n",
    "using around six neighbors. Still, it is good to keep the scale of the plot in mind. The\n",
    "worst performance is around 88% accuracy, which might still be acceptable."
   ]
  },
  {
   "cell_type": "markdown",
   "metadata": {},
   "source": [
    "### k-neighbors regression\n",
    "\n",
    "There is also a regression variant of the k-nearest neighbors algorithm. Again, let’s\n",
    "start by using the single nearest neighbor, this time using the wave dataset. We’ve\n",
    "added three test data points as green stars on the x-axis. The prediction using a single\n",
    "neighbor is just the target value of the nearest neighbor. These are shown as blue stars\n",
    "in Figure 2-8:"
   ]
  },
  {
   "cell_type": "code",
   "execution_count": 44,
   "metadata": {
    "collapsed": false
   },
   "outputs": [
    {
     "data": {
      "image/png": "[encoded data removed]",
      "text/plain": [
       "<matplotlib.figure.Figure at 0x11c8477f0>"
      ]
     },
     "metadata": {},
     "output_type": "display_data"
    }
   ],
   "source": [
    "mglearn.plots.plot_knn_regression(n_neighbors=1)"
   ]
  },
  {
   "cell_type": "markdown",
   "metadata": {},
   "source": [
    "Again, we can use more than the single closest neighbor for regression. When using\n",
    "multiple nearest neighbors, the prediction is the average, or mean, of the relevant\n",
    "neighbors."
   ]
  },
  {
   "cell_type": "code",
   "execution_count": 45,
   "metadata": {
    "collapsed": false
   },
   "outputs": [
    {
     "data": {
      "image/png": "[encoded data removed]",
      "text/plain": [
       "<matplotlib.figure.Figure at 0x11c819240>"
      ]
     },
     "metadata": {},
     "output_type": "display_data"
    }
   ],
   "source": [
    "mglearn.plots.plot_knn_regression(n_neighbors=3)"
   ]
  },
  {
   "cell_type": "markdown",
   "metadata": {},
   "source": [
    "The k-nearest neighbors algorithm for regression is implemented in the KNeighbors\n",
    "Regressor class in scikit-learn. It’s used similarly to KNeighborsClassifier:"
   ]
  },
  {
   "cell_type": "code",
   "execution_count": 47,
   "metadata": {
    "collapsed": false
   },
   "outputs": [
    {
     "data": {
      "text/plain": [
       "KNeighborsRegressor(algorithm='auto', leaf_size=30, metric='minkowski',\n",
       "          metric_params=None, n_jobs=1, n_neighbors=3, p=2,\n",
       "          weights='uniform')"
      ]
     },
     "execution_count": 47,
     "metadata": {},
     "output_type": "execute_result"
    }
   ],
   "source": [
    "from sklearn.neighbors import KNeighborsRegressor\n",
    "\n",
    "X, y = mglearn.datasets.make_wave(n_samples=40)\n",
    "\n",
    "X_train, X_test, y_train, y_test = train_test_split(X, y, random_state=66)\n",
    "\n",
    "knn_reg = KNeighborsRegressor(n_neighbors=3)\n",
    "knn_reg.fit(X_train, y_train)"
   ]
  },
  {
   "cell_type": "code",
   "execution_count": 48,
   "metadata": {
    "collapsed": false
   },
   "outputs": [
    {
     "data": {
      "text/plain": [
       "array([-1.23423166,  0.18400081,  0.49083154, -1.23423166,  1.06165975,\n",
       "        1.0717713 ,  0.230253  ,  0.230253  , -1.23751806, -0.65851598])"
      ]
     },
     "execution_count": 48,
     "metadata": {},
     "output_type": "execute_result"
    }
   ],
   "source": [
    "knn_reg.predict(X_test)"
   ]
  },
  {
   "cell_type": "markdown",
   "metadata": {},
   "source": [
    "We can also evaluate the model using the score method, which for regressors returns\n",
    "the R2 score. The R2 score, also known as the coefficient of determination, is a measure\n",
    "of goodness of a prediction for a regression model, and yields a score between 0\n",
    "and 1. A value of 1 corresponds to a perfect prediction, and a value of 0 corresponds\n",
    "to a constant model that just predicts the mean of the training set responses, y_train:"
   ]
  },
  {
   "cell_type": "code",
   "execution_count": 49,
   "metadata": {
    "collapsed": false
   },
   "outputs": [
    {
     "data": {
      "text/plain": [
       "0.69680253919889323"
      ]
     },
     "execution_count": 49,
     "metadata": {},
     "output_type": "execute_result"
    }
   ],
   "source": [
    "knn_reg.score(X_test, y_test)"
   ]
  },
  {
   "cell_type": "markdown",
   "metadata": {},
   "source": [
    "### Analyzing KNeighborsRegressor"
   ]
  },
  {
   "cell_type": "markdown",
   "metadata": {},
   "source": [
    "For our one-dimensional dataset, we can see what the predictions look like for all\n",
    "possible feature values (Figure 2-10). To do this, we create a test dataset consisting of\n",
    "many points on the line:"
   ]
  },
  {
   "cell_type": "code",
   "execution_count": 50,
   "metadata": {
    "collapsed": false
   },
   "outputs": [
    {
     "data": {
      "text/plain": [
       "<matplotlib.legend.Legend at 0x11c7ca0b8>"
      ]
     },
     "execution_count": 50,
     "metadata": {},
     "output_type": "execute_result"
    },
    {
     "data": {
      "image/png": "[encoded data removed]",
      "text/plain": [
       "<matplotlib.figure.Figure at 0x11c7ca0f0>"
      ]
     },
     "metadata": {},
     "output_type": "display_data"
    }
   ],
   "source": [
    "fig, axes = plt.subplots(1, 3, figsize=(15, 4))\n",
    "# create 1,000 data points, evenly spaced between -3 and 3\n",
    "line = np.linspace(-3, 3, 1000).reshape(-1, 1)\n",
    "for n_neighbors, ax in zip([1, 3, 9], axes):\n",
    "    # make predictions using 1, 3, or 9 neighbors\n",
    "    reg = KNeighborsRegressor(n_neighbors=n_neighbors)\n",
    "    reg.fit(X_train, y_train)\n",
    "    ax.plot(line, reg.predict(line))\n",
    "    ax.plot(X_train, y_train, '^', c=mglearn.cm2(0), markersize=8)\n",
    "    ax.plot(X_test, y_test, 'v', c=mglearn.cm2(1), markersize=8)\n",
    "    \n",
    "    ax.set_title(\n",
    "        \"{} neighbor(s)\\n train score: {:.2f} test score: {:.2f}\".format(\n",
    "            n_neighbors, reg.score(X_train, y_train),\n",
    "            reg.score(X_test, y_test)))\n",
    "    ax.set_xlabel(\"Feature\")\n",
    "    ax.set_ylabel(\"Target\")\n",
    "axes[0].legend([\"Model predictions\", \"Training data/target\",\n",
    "                \"Test data/target\"], loc=\"best\")"
   ]
  },
  {
   "cell_type": "markdown",
   "metadata": {},
   "source": [
    "As we can see from the plot, using only a single neighbor, each point in the training\n",
    "set has an obvious influence on the predictions, and the predicted values go through\n",
    "all of the data points. This leads to a very unsteady prediction. Considering more\n",
    "neighbors leads to smoother predictions, but these do not fit the training data as well."
   ]
  },
  {
   "cell_type": "markdown",
   "metadata": {},
   "source": [
    "### Strengths, weaknesses, and parameters"
   ]
  },
  {
   "cell_type": "markdown",
   "metadata": {},
   "source": [
    "In principle, there are two important parameters to the KNeighbors classifier: the\n",
    "number of neighbors and how you measure distance between data points. In practice,\n",
    "using a small number of neighbors like three or five often works well, but you should\n",
    "certainly adjust this parameter. Choosing the right distance measure is somewhat\n",
    "beyond the scope of this book. By default, Euclidean distance is used, which works\n",
    "well in many settings."
   ]
  },
  {
   "cell_type": "markdown",
   "metadata": {},
   "source": [
    "One of the strengths of k-NN is that the model is very easy to understand, and often\n",
    "gives reasonable performance without a lot of adjustments. Using this algorithm is a\n",
    "good baseline method to try before considering more advanced techniques. Building\n",
    "the nearest neighbors model is usually very fast, but when your training set is very\n",
    "large (either in number of features or in number of samples) prediction can be slow.\n",
    "When using the k-NN algorithm, it’s important to preprocess your data (see Chapter\n",
    "3). This approach often does not perform well on datasets with many features\n",
    "(hundreds or more), and it does particularly badly with datasets where most features\n",
    "are 0 most of the time (so-called sparse datasets)."
   ]
  },
  {
   "cell_type": "markdown",
   "metadata": {},
   "source": [
    "So, while the nearest k-neighbors algorithm is easy to understand, it is not often used\n",
    "in practice, due to prediction being slow and its inability to handle many features.\n",
    "The method we discuss next has neither of these drawbacks."
   ]
  },
  {
   "cell_type": "markdown",
   "metadata": {},
   "source": [
    "## 2. Linear Models"
   ]
  },
  {
   "cell_type": "markdown",
   "metadata": {},
   "source": [
    "Linear models are a class of models that are widely used in practice and have been\n",
    "studied extensively in the last few decades, with roots going back over a hundred\n",
    "years. Linear models make a prediction using a linear function of the input features,\n",
    "which we will explain shortly."
   ]
  },
  {
   "cell_type": "markdown",
   "metadata": {},
   "source": [
    "### Linear models for regression"
   ]
  },
  {
   "cell_type": "markdown",
   "metadata": {},
   "source": [
    "Trying to learn the parameters w[0] and b on our one-dimensional wave dataset\n",
    "might lead to the following line (see Figure 2-11):"
   ]
  },
  {
   "cell_type": "code",
   "execution_count": 51,
   "metadata": {
    "collapsed": false
   },
   "outputs": [
    {
     "name": "stdout",
     "output_type": "stream",
     "text": [
      "w[0]: 0.393906  b: -0.031804\n"
     ]
    },
    {
     "data": {
      "image/png": "[encoded data removed]",
      "text/plain": [
       "<matplotlib.figure.Figure at 0x11c5096a0>"
      ]
     },
     "metadata": {},
     "output_type": "display_data"
    }
   ],
   "source": [
    "mglearn.plots.plot_linear_regression_wave()"
   ]
  },
  {
   "cell_type": "markdown",
   "metadata": {},
   "source": [
    "We added a coordinate cross into the plot to make it easier to understand the line.\n",
    "Looking at w[0] we see that the slope should be around 0.4, which we can confirm\n",
    "visually in the plot. The intercept is where the prediction line should cross the y-axis:\n",
    "this is slightly below zero, which you can also confirm in the image."
   ]
  },
  {
   "cell_type": "markdown",
   "metadata": {},
   "source": [
    "Linear models for regression can be characterized as regression models for which the\n",
    "prediction is a line for a single feature, a plane when using two features, or a hyperplane\n",
    "in higher dimensions (that is, when using more features)."
   ]
  },
  {
   "cell_type": "markdown",
   "metadata": {},
   "source": [
    "If you compare the predictions made by the straight line with those made by the\n",
    "KNeighborsRegressor in Figure 2-10, using a straight line to make predictions seems\n",
    "very restrictive. It looks like all the fine details of the data are lost. In a sense, this is\n",
    "true. It is a strong (and somewhat unrealistic) assumption that our target y is a linear combination of the features. But looking at one-dimensional data gives a somewhat\n",
    "skewed perspective. For datasets with many features, linear models can be very powerful.\n",
    "In particular, if you have more features than training data points, any target y\n",
    "can be perfectly modeled (on the training set) as a linear function.\n",
    "\n",
    "There are many different linear models for regression. The difference between these\n",
    "models lies in how the model parameters w and b are learned from the training data,\n",
    "and how model complexity can be controlled. We will now take a look at the most\n",
    "popular linear models for regression."
   ]
  },
  {
   "cell_type": "markdown",
   "metadata": {},
   "source": [
    "### Linear regression (aka ordinary least squares)"
   ]
  },
  {
   "cell_type": "markdown",
   "metadata": {},
   "source": [
    "Linear regression, or ordinary least squares (OLS), is the simplest and most classic linear\n",
    "method for regression. Linear regression finds the parameters w and b that minimize\n",
    "the mean squared error between predictions and the true regression targets, y,\n",
    "on the training set. The mean squared error is the sum of the squared differences\n",
    "between the predictions and the true values. Linear regression has no parameters,\n",
    "which is a benefit, but it also has no way to control model complexity."
   ]
  },
  {
   "cell_type": "code",
   "execution_count": 52,
   "metadata": {
    "collapsed": true
   },
   "outputs": [],
   "source": [
    "from sklearn.linear_model import LinearRegression\n",
    "X, y = mglearn.datasets.make_wave(n_samples=60)\n",
    "X_train, X_test, y_train, y_test = train_test_split(X, y, random_state=42)"
   ]
  },
  {
   "cell_type": "code",
   "execution_count": 53,
   "metadata": {
    "collapsed": true
   },
   "outputs": [],
   "source": [
    "lin_reg = LinearRegression().fit(X_train, y_train)"
   ]
  },
  {
   "cell_type": "markdown",
   "metadata": {},
   "source": [
    "The “slope” parameters (w), also called weights or coefficients, are stored in the coef_\n",
    "attribute, while the offset or intercept (b) is stored in the intercept_ attribute:"
   ]
  },
  {
   "cell_type": "code",
   "execution_count": 55,
   "metadata": {
    "collapsed": false
   },
   "outputs": [
    {
     "data": {
      "text/plain": [
       "-0.031804343026759746"
      ]
     },
     "execution_count": 55,
     "metadata": {},
     "output_type": "execute_result"
    }
   ],
   "source": [
    "lin_reg.intercept_"
   ]
  },
  {
   "cell_type": "code",
   "execution_count": 56,
   "metadata": {
    "collapsed": false
   },
   "outputs": [
    {
     "data": {
      "text/plain": [
       "array([ 0.39390555])"
      ]
     },
     "execution_count": 56,
     "metadata": {},
     "output_type": "execute_result"
    }
   ],
   "source": [
    "lin_reg.coef_"
   ]
  },
  {
   "cell_type": "markdown",
   "metadata": {},
   "source": [
    "You might notice the strange-looking trailing underscore at the end\n",
    "of coef_ and intercept_. scikit-learn always stores anything\n",
    "that is derived from the training data in attributes that end with a\n",
    "trailing underscore. That is to separate them from parameters that\n",
    "are set by the user."
   ]
  },
  {
   "cell_type": "markdown",
   "metadata": {},
   "source": [
    "The intercept_ attribute is always a single float number, while the coef_ attribute is\n",
    "a NumPy array with one entry per input feature. As we only have a single input feature\n",
    "in the wave dataset, lr.coef_ only has a single entry."
   ]
  },
  {
   "cell_type": "markdown",
   "metadata": {},
   "source": [
    "Let’s look at the training set and test set performance:"
   ]
  },
  {
   "cell_type": "code",
   "execution_count": 57,
   "metadata": {
    "collapsed": false
   },
   "outputs": [
    {
     "data": {
      "text/plain": [
       "0.67008903150757559"
      ]
     },
     "execution_count": 57,
     "metadata": {},
     "output_type": "execute_result"
    }
   ],
   "source": [
    "lin_reg.score(X_train, y_train)"
   ]
  },
  {
   "cell_type": "code",
   "execution_count": 58,
   "metadata": {
    "collapsed": false
   },
   "outputs": [
    {
     "data": {
      "text/plain": [
       "0.65933685968637001"
      ]
     },
     "execution_count": 58,
     "metadata": {},
     "output_type": "execute_result"
    }
   ],
   "source": [
    "lin_reg.score(X_test, y_test)"
   ]
  },
  {
   "cell_type": "markdown",
   "metadata": {},
   "source": [
    "An R2 of around 0.66 is not very good, but we can see that the scores on the training\n",
    "and test sets are very close together. This means we are likely underfitting, not overfitting.\n",
    "For this one-dimensional dataset, there is little danger of overfitting, as the\n",
    "model is very simple (or restricted). However, with higher-dimensional datasets\n",
    "(meaning datasets with a large number of features), linear models become more powerful,\n",
    "and there is a higher chance of overfitting."
   ]
  },
  {
   "cell_type": "markdown",
   "metadata": {},
   "source": [
    "Let’s take a look at how LinearRe\n",
    "gression performs on a more complex dataset, like the Boston Housing dataset.\n",
    "Remember that this dataset has 506 samples and 105 derived features. First, we load\n",
    "the dataset and split it into a training and a test set. Then we build the linear regression\n",
    "model as before:"
   ]
  },
  {
   "cell_type": "code",
   "execution_count": 60,
   "metadata": {
    "collapsed": false
   },
   "outputs": [
    {
     "data": {
      "text/plain": [
       "LinearRegression(copy_X=True, fit_intercept=True, n_jobs=1, normalize=False)"
      ]
     },
     "execution_count": 60,
     "metadata": {},
     "output_type": "execute_result"
    }
   ],
   "source": [
    "X, y = mglearn.datasets.load_extended_boston()\n",
    "X_train, X_test, y_train, y_test = train_test_split(X, y, random_state=0)\n",
    "\n",
    "lin_reg = LinearRegression()\n",
    "lin_reg.fit(X_train, y_train)"
   ]
  },
  {
   "cell_type": "code",
   "execution_count": 61,
   "metadata": {
    "collapsed": false
   },
   "outputs": [
    {
     "data": {
      "text/plain": [
       "0.95235264368642392"
      ]
     },
     "execution_count": 61,
     "metadata": {},
     "output_type": "execute_result"
    }
   ],
   "source": [
    "lin_reg.score(X_train, y_train)"
   ]
  },
  {
   "cell_type": "code",
   "execution_count": 62,
   "metadata": {
    "collapsed": false
   },
   "outputs": [
    {
     "data": {
      "text/plain": [
       "0.60577548929354275"
      ]
     },
     "execution_count": 62,
     "metadata": {},
     "output_type": "execute_result"
    }
   ],
   "source": [
    "lin_reg.score(X_test, y_test)"
   ]
  },
  {
   "cell_type": "markdown",
   "metadata": {},
   "source": [
    "When comparing training set and test set scores, we find that we predict very accurately\n",
    "on the training set, but the R2 on the test set is much worse. This discrepancy between performance on the training set and the test set is a clear\n",
    "sign of overfitting, and therefore we should try to find a model that allows us to control\n",
    "complexity. One of the most commonly used alternatives to standard linear\n",
    "regression is ridge regression, which we will look into next."
   ]
  },
  {
   "cell_type": "markdown",
   "metadata": {},
   "source": [
    "### Ridge regression"
   ]
  },
  {
   "cell_type": "markdown",
   "metadata": {},
   "source": [
    "Ridge regression is also a linear model for regression, so the formula it uses to make\n",
    "predictions is the same one used for ordinary least squares. In ridge regression,\n",
    "though, the coefficients (w) are chosen not only so that they predict well on the training\n",
    "data, but also to fit an additional constraint. We also want the magnitude of coefficients\n",
    "to be as small as possible; in other words, all entries of w should be close to\n",
    "zero. Intuitively, this means each feature should have as little effect on the outcome as\n",
    "possible (which translates to having a small slope), while still predicting well. This\n",
    "constraint is an example of what is called regularization. Regularization means explicitly\n",
    "restricting a model to avoid overfitting. The particular kind used by ridge regression\n",
    "is known as L2 regularization."
   ]
  },
  {
   "cell_type": "markdown",
   "metadata": {},
   "source": [
    "Ridge regression is implemented in linear_model.Ridge. Let’s see how well it does\n",
    "on the extended Boston Housing dataset:"
   ]
  },
  {
   "cell_type": "code",
   "execution_count": 63,
   "metadata": {
    "collapsed": false
   },
   "outputs": [
    {
     "data": {
      "text/plain": [
       "Ridge(alpha=1.0, copy_X=True, fit_intercept=True, max_iter=None,\n",
       "   normalize=False, random_state=None, solver='auto', tol=0.001)"
      ]
     },
     "execution_count": 63,
     "metadata": {},
     "output_type": "execute_result"
    }
   ],
   "source": [
    "from sklearn.linear_model import Ridge\n",
    "\n",
    "ridge_reg = Ridge()\n",
    "ridge_reg.fit(X_train, y_train)"
   ]
  },
  {
   "cell_type": "code",
   "execution_count": 64,
   "metadata": {
    "collapsed": false
   },
   "outputs": [
    {
     "data": {
      "text/plain": [
       "0.88605785603958365"
      ]
     },
     "execution_count": 64,
     "metadata": {},
     "output_type": "execute_result"
    }
   ],
   "source": [
    "ridge_reg.score(X_train, y_train)"
   ]
  },
  {
   "cell_type": "code",
   "execution_count": 65,
   "metadata": {
    "collapsed": false
   },
   "outputs": [
    {
     "data": {
      "text/plain": [
       "0.75271396003069513"
      ]
     },
     "execution_count": 65,
     "metadata": {},
     "output_type": "execute_result"
    }
   ],
   "source": [
    "ridge_reg.score(X_test, y_test)"
   ]
  },
  {
   "cell_type": "markdown",
   "metadata": {},
   "source": [
    "As you can see, the training set score of Ridge is lower than for LinearRegression,\n",
    "while the test set score is higher. This is consistent with our expectation. With linear\n",
    "regression, we were overfitting our data. Ridge is a more restricted model, so we are\n",
    "less likely to overfit. A less complex model means worse performance on the training\n",
    "set, but better generalization. As we are only interested in generalization performance,\n",
    "we should choose the Ridge model over the LinearRegression model."
   ]
  },
  {
   "cell_type": "markdown",
   "metadata": {},
   "source": [
    "The Ridge model makes a trade-off between the simplicity of the model (near-zero\n",
    "coefficients) and its performance on the training set. How much importance the\n",
    "model places on simplicity versus training set performance can be specified by the\n",
    "user, using the alpha parameter. In the previous example, we used the default parameter\n",
    "alpha=1.0. There is no reason why this will give us the best trade-off, though.\n",
    "The optimum setting of alpha depends on the particular dataset we are using.\n",
    "Increasing alpha forces coefficients to move more toward zero, which decreases\n",
    "training set performance but might help generalization."
   ]
  },
  {
   "cell_type": "code",
   "execution_count": 69,
   "metadata": {
    "collapsed": false
   },
   "outputs": [
    {
     "data": {
      "text/plain": [
       "Ridge(alpha=10, copy_X=True, fit_intercept=True, max_iter=None,\n",
       "   normalize=False, random_state=None, solver='auto', tol=0.001)"
      ]
     },
     "execution_count": 69,
     "metadata": {},
     "output_type": "execute_result"
    }
   ],
   "source": [
    "ridge10_reg = Ridge(alpha=10)\n",
    "ridge10_reg.fit(X_train, y_train)"
   ]
  },
  {
   "cell_type": "code",
   "execution_count": 77,
   "metadata": {
    "collapsed": false
   },
   "outputs": [
    {
     "data": {
      "text/plain": [
       "(25.008447545322632,\n",
       " array([ -8.13689900e-01,   6.47624096e-01,  -8.09069366e-01,\n",
       "          3.11198225e-01,  -6.85925930e-01,   4.38593449e+00,\n",
       "         -1.47445671e-01,  -2.44271803e+00,   8.46353010e-01,\n",
       "         -1.14693390e+00,  -2.33238633e+00,   1.06950259e+00,\n",
       "         -3.98476108e+00,  -5.96589431e-01,   2.93203629e-03,\n",
       "         -5.22602899e-01,   1.40364038e-01,  -6.47904991e-01,\n",
       "         -7.63479624e-01,  -7.49429425e-01,  -3.89589923e-02,\n",
       "         -8.32010779e-01,  -7.54840522e-01,  -6.77354859e-01,\n",
       "         -8.69619073e-01,  -3.24778913e-01,   1.27363302e+00,\n",
       "         -3.37411519e-01,   6.31092531e-02,   2.37060282e-01,\n",
       "          2.09823300e+00,   1.00873715e-01,  -2.79339029e-01,\n",
       "          1.73132985e-01,  -3.33635214e-01,  -3.74236571e-01,\n",
       "          6.98395101e-01,  -6.96346693e-01,   7.80145567e-01,\n",
       "          3.74888812e-01,  -6.24706702e-01,  -7.65025367e-01,\n",
       "          4.40787903e-02,  -1.04041037e+00,   4.25019292e-01,\n",
       "          4.79167488e-01,  -3.84692131e-01,  -9.74505240e-02,\n",
       "         -1.30262179e+00,   3.11198225e-01,  -5.91722197e-01,\n",
       "          6.34078560e-01,   6.66612998e-01,  -1.27992077e-01,\n",
       "          1.35385517e+00,   1.09872376e+00,   6.37162662e-01,\n",
       "          4.76214559e-01,  -9.70218814e-01,  -1.44033753e+00,\n",
       "         -7.17444065e-02,  -9.31243207e-01,  -4.55516766e-01,\n",
       "         -6.60148625e-01,  -9.34129238e-01,  -1.17588845e+00,\n",
       "          3.40391383e-01,  -1.76814675e+00,   7.02683087e+00,\n",
       "          1.51535300e+00,   3.90619104e-01,  -1.21943802e+00,\n",
       "         -1.86928134e+00,  -1.36313182e+00,   5.46505558e+00,\n",
       "         -2.89948820e+00,   1.26406635e-01,  -1.48345565e+00,\n",
       "          5.34617974e-01,  -4.90106661e-01,  -1.63095820e+00,\n",
       "          6.17624152e-01,  -2.98890843e+00,  -1.27805719e+00,\n",
       "         -2.83308393e-01,  -1.03462660e+00,  -1.69306195e+00,\n",
       "         -2.26447657e+00,  -1.33117686e+00,   9.27458483e-01,\n",
       "          6.27693593e-01,   2.35254706e-01,   1.33926133e+00,\n",
       "         -1.88591842e+00,   3.92762946e-01,  -4.42962419e-01,\n",
       "         -4.51262053e-01,  -2.05805190e+00,  -1.49555979e+00,\n",
       "         -1.76754289e+00,  -2.03784059e+00,   1.08036649e+00,\n",
       "         -3.94938804e+00,   1.42121796e-01]))"
      ]
     },
     "execution_count": 77,
     "metadata": {},
     "output_type": "execute_result"
    }
   ],
   "source": [
    "ridge10_reg.intercept_, ridge10_reg.coef_"
   ]
  },
  {
   "cell_type": "code",
   "execution_count": 71,
   "metadata": {
    "collapsed": false
   },
   "outputs": [
    {
     "data": {
      "text/plain": [
       "0.78834615112332518"
      ]
     },
     "execution_count": 71,
     "metadata": {},
     "output_type": "execute_result"
    }
   ],
   "source": [
    "ridge10_reg.score(X_train, y_train)"
   ]
  },
  {
   "cell_type": "code",
   "execution_count": 72,
   "metadata": {
    "collapsed": false
   },
   "outputs": [
    {
     "data": {
      "text/plain": [
       "0.63589673274477332"
      ]
     },
     "execution_count": 72,
     "metadata": {},
     "output_type": "execute_result"
    }
   ],
   "source": [
    "ridge10_reg.score(X_test, y_test)"
   ]
  },
  {
   "cell_type": "markdown",
   "metadata": {},
   "source": [
    "Decreasing alpha allows the coefficients to be less restricted, meaning we move right\n",
    "in Figure 2-1. For very small values of alpha, coefficients are barely restricted at all,\n",
    "and we end up with a model that resembles LinearRegression:"
   ]
  },
  {
   "cell_type": "code",
   "execution_count": 73,
   "metadata": {
    "collapsed": false
   },
   "outputs": [
    {
     "data": {
      "text/plain": [
       "Ridge(alpha=0.1, copy_X=True, fit_intercept=True, max_iter=None,\n",
       "   normalize=False, random_state=None, solver='auto', tol=0.001)"
      ]
     },
     "execution_count": 73,
     "metadata": {},
     "output_type": "execute_result"
    }
   ],
   "source": [
    "ridge01_reg = Ridge(alpha=0.1)\n",
    "ridge01_reg.fit(X_train, y_train)"
   ]
  },
  {
   "cell_type": "code",
   "execution_count": 78,
   "metadata": {
    "collapsed": false
   },
   "outputs": [
    {
     "data": {
      "text/plain": [
       "(11.268837439378462,\n",
       " array([ -2.42369024e+00,  -5.44004823e+00,  -6.06891063e+00,\n",
       "         -7.84388599e-01,   1.24386681e+00,   1.89702705e+01,\n",
       "          4.36613313e+00,  -1.11663297e+01,   9.56288401e+00,\n",
       "         -7.20754938e-01,  -5.07038511e-01,   5.97496430e+00,\n",
       "         -2.73101969e+00,   6.42817641e+00,   2.24383797e-02,\n",
       "         -9.60932943e-01,   4.67446373e+00,  -3.70921574e+00,\n",
       "          8.83871436e-01,  -3.67984555e+00,   3.88516779e-01,\n",
       "         -3.61278794e+00,  -2.60698340e+00,  -2.76742773e+00,\n",
       "          6.68924851e-01,  -1.02789547e+00,   3.03954905e+00,\n",
       "         -2.66446453e+00,   4.28171509e+00,  -2.96666346e+00,\n",
       "          8.68755769e+00,  -3.12861379e+00,  -3.10156799e-01,\n",
       "          2.19864337e+00,   3.65300578e+00,   2.28827584e+00,\n",
       "         -2.81915997e+00,  -6.17005400e+00,   7.93670916e+00,\n",
       "          1.65588883e+00,   8.81109066e+00,   1.15623241e+00,\n",
       "          5.71139550e+00,  -4.76064030e+00,   5.09735099e+00,\n",
       "          8.01852242e+00,  -8.42566476e+00,  -7.70634034e-01,\n",
       "         -1.42294040e+01,  -7.84388599e-01,  -1.38848716e+01,\n",
       "         -1.59150576e+01,   6.40496933e+00,  -1.81288028e+00,\n",
       "          6.38642399e+00,   4.03120454e+00,  -9.50042046e-01,\n",
       "          1.11050408e+01,  -6.94313080e+00,  -7.36276977e-01,\n",
       "         -2.68034173e+00,  -6.75800961e+00,  -7.18933736e-01,\n",
       "         -6.58313172e+00,  -1.40986069e+00,  -5.11219523e+00,\n",
       "          7.61328724e-01,   4.13907521e+00,   2.07056730e+01,\n",
       "         -8.26562956e+00,   4.18653407e+00,  -1.42428853e+01,\n",
       "         -1.49873874e+01,  -1.81803299e+01,   1.32440642e+01,\n",
       "         -7.99971803e+00,   3.01469273e-02,   2.97156900e+00,\n",
       "          1.12018071e+01,  -3.16808948e+00,   2.08208750e-03,\n",
       "         -4.18982065e+00,  -1.15776079e+01,   1.06463481e+01,\n",
       "          3.58598944e+00,   2.51653995e+00,  -5.11182915e-01,\n",
       "         -1.24752806e+01,   4.59013022e+00,  -4.67149464e+00,\n",
       "          4.83692404e+00,   3.93209356e+00,  -2.34509837e+00,\n",
       "         -1.28416224e+01,  -7.88838460e-01,   8.57982217e+00,\n",
       "         -2.88115119e+00,  -1.34547750e+01,   3.81597146e+00,\n",
       "         -5.35628149e-01,   4.86878319e+00,   2.65118056e+00,\n",
       "         -6.72655134e+00,   2.42773422e+01]))"
      ]
     },
     "execution_count": 78,
     "metadata": {},
     "output_type": "execute_result"
    }
   ],
   "source": [
    "ridge01_reg.intercept_, ridge01_reg.coef_"
   ]
  },
  {
   "cell_type": "code",
   "execution_count": 75,
   "metadata": {
    "collapsed": false
   },
   "outputs": [
    {
     "data": {
      "text/plain": [
       "0.92857820820107329"
      ]
     },
     "execution_count": 75,
     "metadata": {},
     "output_type": "execute_result"
    }
   ],
   "source": [
    "ridge01_reg.score(X_train, y_train)"
   ]
  },
  {
   "cell_type": "code",
   "execution_count": 76,
   "metadata": {
    "collapsed": false
   },
   "outputs": [
    {
     "data": {
      "text/plain": [
       "0.77179336888449701"
      ]
     },
     "execution_count": 76,
     "metadata": {},
     "output_type": "execute_result"
    }
   ],
   "source": [
    "ridge01_reg.score(X_test, y_test)"
   ]
  },
  {
   "cell_type": "markdown",
   "metadata": {},
   "source": [
    "For now, notice how the parameter alpha corresponds to\n",
    "the model complexity as shown in Figure 2-1. We will discuss methods to properly\n",
    "select parameters in Chapter 5."
   ]
  },
  {
   "cell_type": "markdown",
   "metadata": {},
   "source": [
    "We can also get a more qualitative insight into how the alpha parameter changes the\n",
    "model by inspecting the coef_ attribute of models with different values of alpha. A\n",
    "higher alpha means a more restricted model, so we expect the entries of coef_ to\n",
    "have smaller magnitude for a high value of alpha than for a low value of alpha. The coefficients for the Ridge model with alpha=1 are\n",
    "somewhat larger. The dots corresponding to alpha=0.1 have larger magnitude still,\n",
    "and many of the dots corresponding to linear regression without any regularization\n",
    "(which would be alpha=0) are so large they are outside of the chart."
   ]
  },
  {
   "cell_type": "code",
   "execution_count": 107,
   "metadata": {
    "collapsed": false
   },
   "outputs": [
    {
     "data": {
      "text/plain": [
       "<matplotlib.legend.Legend at 0x11d2e19e8>"
      ]
     },
     "execution_count": 107,
     "metadata": {},
     "output_type": "execute_result"
    },
    {
     "data": {
      "image/png": "[encoded data removed]",
      "text/plain": [
       "<matplotlib.figure.Figure at 0x11c445a20>"
      ]
     },
     "metadata": {},
     "output_type": "display_data"
    }
   ],
   "source": [
    "plt.plot(ridge_reg.coef_, 's', label=\"Ridge alpha=1\")\n",
    "plt.plot(ridge10_reg.coef_, '^', label=\"Ridge alpha=10\")\n",
    "plt.plot(ridge01_reg.coef_, 'v', label=\"Ridge alpha=0.1\")\n",
    "plt.plot(lin_reg.coef_, 'o', label=\"LinearRegression\")\n",
    "plt.xlabel(\"Coefficient index\")\n",
    "plt.ylabel(\"Coefficient magnitude\")\n",
    "plt.hlines(0, 0, len(lin_reg.coef_))\n",
    "plt.ylim(-25, 25)\n",
    "plt.legend()"
   ]
  },
  {
   "cell_type": "markdown",
   "metadata": {},
   "source": [
    "Here, the x-axis enumerates the entries of coef_: x=0 shows the coefficient associated\n",
    "with the first feature, x=1 the coefficient associated with the second feature, and so on\n",
    "up to x=100. The y-axis shows the numeric values of the corresponding values of the\n",
    "coefficients. The main takeaway here is that for alpha=10, the coefficients are mostly\n",
    "between around –3 and 3. The coefficients for the Ridge model with alpha=1 are\n",
    "somewhat larger. The dots corresponding to alpha=0.1 have larger magnitude still,\n",
    "and many of the dots corresponding to linear regression without any regularization\n",
    "(which would be alpha=0) are so large they are outside of the chart."
   ]
  },
  {
   "cell_type": "markdown",
   "metadata": {},
   "source": [
    "Another way to understand the influence of regularization is to fix a value of alpha\n",
    "but vary the amount of training data available. For Figure 2-13, we subsampled the\n",
    "Boston Housing dataset and evaluated LinearRegression and Ridge(alpha=1) on\n",
    "subsets of increasing size (plots that show model performance as a function of dataset\n",
    "size are called learning curves):"
   ]
  },
  {
   "cell_type": "code",
   "execution_count": 108,
   "metadata": {
    "collapsed": false
   },
   "outputs": [
    {
     "data": {
      "image/png": "[encoded data removed]",
      "text/plain": [
       "<matplotlib.figure.Figure at 0x11cde60b8>"
      ]
     },
     "metadata": {},
     "output_type": "display_data"
    }
   ],
   "source": [
    "mglearn.plots.plot_ridge_n_samples()"
   ]
  },
  {
   "cell_type": "markdown",
   "metadata": {},
   "source": [
    "As one would expect, the training score is higher than the test score for all dataset\n",
    "sizes, for both ridge and linear regression. Because ridge is regularized, the training\n",
    "score of ridge is lower than the training score for linear regression across the board.\n",
    "However, the test score for ridge is better, particularly for small subsets of the data.\n",
    "For less than 400 data points, linear regression is not able to learn anything. As more\n",
    "and more data becomes available to the model, both models improve, and linear\n",
    "regression catches up with ridge in the end. The lesson here is that with enough training\n",
    "data, regularization becomes less important, and given enough data, ridge and linear regression will have the same performance (the fact that this happens here\n",
    "when using the full dataset is just by chance). Another interesting aspect of\n",
    "Figure 2-13 is the decrease in training performance for linear regression. If more data\n",
    "is added, it becomes harder for a model to overfit, or memorize the data."
   ]
  },
  {
   "cell_type": "markdown",
   "metadata": {},
   "source": [
    "### Lasso"
   ]
  },
  {
   "cell_type": "markdown",
   "metadata": {},
   "source": [
    "An alternative to Ridge for regularizing linear regression is Lasso. As with ridge\n",
    "regression, using the lasso also restricts coefficients to be close to zero, but in a\n",
    "slightly different way, called L1 regularization.8 The consequence of L1 regularization\n",
    "is that when using the lasso, some coefficients are exactly zero. This means some features\n",
    "are entirely ignored by the model. This can be seen as a form of automatic feature\n",
    "selection. Having some coefficients be exactly zero often makes a model easier to\n",
    "interpret, and can reveal the most important features of your model.\n",
    "\n",
    "Let’s apply the lasso to the extended Boston Housing dataset:"
   ]
  },
  {
   "cell_type": "code",
   "execution_count": 80,
   "metadata": {
    "collapsed": false
   },
   "outputs": [
    {
     "data": {
      "text/plain": [
       "Lasso(alpha=1.0, copy_X=True, fit_intercept=True, max_iter=1000,\n",
       "   normalize=False, positive=False, precompute=False, random_state=None,\n",
       "   selection='cyclic', tol=0.0001, warm_start=False)"
      ]
     },
     "execution_count": 80,
     "metadata": {},
     "output_type": "execute_result"
    }
   ],
   "source": [
    "from sklearn.linear_model import Lasso\n",
    "\n",
    "lasso_reg = Lasso()\n",
    "lasso_reg.fit(X_train, y_train)"
   ]
  },
  {
   "cell_type": "code",
   "execution_count": 81,
   "metadata": {
    "collapsed": false
   },
   "outputs": [
    {
     "data": {
      "text/plain": [
       "0.29323768991114596"
      ]
     },
     "execution_count": 81,
     "metadata": {},
     "output_type": "execute_result"
    }
   ],
   "source": [
    "lasso_reg.score(X_train, y_train)"
   ]
  },
  {
   "cell_type": "code",
   "execution_count": 82,
   "metadata": {
    "collapsed": false
   },
   "outputs": [
    {
     "data": {
      "text/plain": [
       "0.20937503255272272"
      ]
     },
     "execution_count": 82,
     "metadata": {},
     "output_type": "execute_result"
    }
   ],
   "source": [
    "lasso_reg.score(X_test, y_test)"
   ]
  },
  {
   "cell_type": "code",
   "execution_count": 84,
   "metadata": {
    "collapsed": false
   },
   "outputs": [
    {
     "data": {
      "text/plain": [
       "4"
      ]
     },
     "execution_count": 84,
     "metadata": {},
     "output_type": "execute_result"
    }
   ],
   "source": [
    "# Number of features used.\n",
    "np.sum(lasso_reg.coef_ != 0)"
   ]
  },
  {
   "cell_type": "markdown",
   "metadata": {},
   "source": [
    "As you can see, Lasso does quite badly, both on the training and the test set. This\n",
    "indicates that we are underfitting, and we find that it used only 4 of the 105 features.\n",
    "Similarly to Ridge, the Lasso also has a regularization parameter, alpha, that controls\n",
    "how strongly coefficients are pushed toward zero. In the previous example, we used\n",
    "the default of alpha=1.0. To reduce underfitting, let’s try decreasing alpha. When we\n",
    "do this, we also need to increase the default setting of max_iter (the maximum number\n",
    "of iterations to run)."
   ]
  },
  {
   "cell_type": "code",
   "execution_count": 90,
   "metadata": {
    "collapsed": false
   },
   "outputs": [
    {
     "data": {
      "text/plain": [
       "Lasso(alpha=0.01, copy_X=True, fit_intercept=True, max_iter=100000,\n",
       "   normalize=False, positive=False, precompute=False, random_state=None,\n",
       "   selection='cyclic', tol=0.0001, warm_start=False)"
      ]
     },
     "execution_count": 90,
     "metadata": {},
     "output_type": "execute_result"
    }
   ],
   "source": [
    "# we increase the default setting of \"max_iter\",\n",
    "# otherwise the model would warn us that we should increase max_iter.\n",
    "lasso001_reg = Lasso(alpha=0.01, max_iter=100000)\n",
    "lasso001_reg.fit(X_train, y_train)"
   ]
  },
  {
   "cell_type": "code",
   "execution_count": 91,
   "metadata": {
    "collapsed": false
   },
   "outputs": [
    {
     "data": {
      "text/plain": [
       "0.89650695597512908"
      ]
     },
     "execution_count": 91,
     "metadata": {},
     "output_type": "execute_result"
    }
   ],
   "source": [
    "lasso001_reg.score(X_train, y_train)"
   ]
  },
  {
   "cell_type": "code",
   "execution_count": 92,
   "metadata": {
    "collapsed": false
   },
   "outputs": [
    {
     "data": {
      "text/plain": [
       "0.76564898878435228"
      ]
     },
     "execution_count": 92,
     "metadata": {},
     "output_type": "execute_result"
    }
   ],
   "source": [
    "lasso001_reg.score(X_test, y_test)"
   ]
  },
  {
   "cell_type": "code",
   "execution_count": 94,
   "metadata": {
    "collapsed": false
   },
   "outputs": [
    {
     "data": {
      "text/plain": [
       "33"
      ]
     },
     "execution_count": 94,
     "metadata": {},
     "output_type": "execute_result"
    }
   ],
   "source": [
    "np.sum(lasso001_reg.coef_ != 0)"
   ]
  },
  {
   "cell_type": "markdown",
   "metadata": {},
   "source": [
    "A lower alpha allowed us to fit a more complex model, which worked better on the\n",
    "training and test data. The performance is slightly better than using Ridge, and we are\n",
    "using only 33 of the 105 features. This makes this model potentially easier to understand.\n",
    "If we set alpha too low, however, we again remove the effect of regularization and end\n",
    "up overfitting, with a result similar to LinearRegression:"
   ]
  },
  {
   "cell_type": "code",
   "execution_count": 96,
   "metadata": {
    "collapsed": false
   },
   "outputs": [
    {
     "data": {
      "text/plain": [
       "Lasso(alpha=0.0001, copy_X=True, fit_intercept=True, max_iter=100000,\n",
       "   normalize=False, positive=False, precompute=False, random_state=None,\n",
       "   selection='cyclic', tol=0.0001, warm_start=False)"
      ]
     },
     "execution_count": 96,
     "metadata": {},
     "output_type": "execute_result"
    }
   ],
   "source": [
    "lasso00001_reg = Lasso(alpha=0.0001, max_iter=100000)\n",
    "lasso00001_reg.fit(X_train, y_train)"
   ]
  },
  {
   "cell_type": "code",
   "execution_count": 99,
   "metadata": {
    "collapsed": false
   },
   "outputs": [
    {
     "data": {
      "text/plain": [
       "0.95106104361812605"
      ]
     },
     "execution_count": 99,
     "metadata": {},
     "output_type": "execute_result"
    }
   ],
   "source": [
    "lasso00001_reg.score(X_train, y_train)"
   ]
  },
  {
   "cell_type": "code",
   "execution_count": 100,
   "metadata": {
    "collapsed": false
   },
   "outputs": [
    {
     "data": {
      "text/plain": [
       "0.64030989941605654"
      ]
     },
     "execution_count": 100,
     "metadata": {},
     "output_type": "execute_result"
    }
   ],
   "source": [
    "lasso00001_reg.score(X_test, y_test)"
   ]
  },
  {
   "cell_type": "code",
   "execution_count": 101,
   "metadata": {
    "collapsed": false
   },
   "outputs": [
    {
     "data": {
      "text/plain": [
       "94"
      ]
     },
     "execution_count": 101,
     "metadata": {},
     "output_type": "execute_result"
    }
   ],
   "source": [
    "np.sum(lasso00001_reg.coef_ != 0)"
   ]
  },
  {
   "cell_type": "code",
   "execution_count": 104,
   "metadata": {
    "collapsed": false
   },
   "outputs": [
    {
     "data": {
      "text/plain": [
       "<matplotlib.text.Text at 0x11c3ff6a0>"
      ]
     },
     "execution_count": 104,
     "metadata": {},
     "output_type": "execute_result"
    },
    {
     "data": {
      "image/png": "[encoded data removed]",
      "text/plain": [
       "<matplotlib.figure.Figure at 0x1190715f8>"
      ]
     },
     "metadata": {},
     "output_type": "display_data"
    }
   ],
   "source": [
    "plt.plot(lasso_reg.coef_, 's', label=\"Lasso alpha=1\")\n",
    "plt.plot(lasso001_reg.coef_, '^', label=\"Lasso alpha=0.01\")\n",
    "plt.plot(lasso00001_reg.coef_, 'v', label=\"Lasso alpha=0.0001\")\n",
    "plt.plot(ridge01_reg.coef_, 'o', label=\"Ridge alpha=0.1\")\n",
    "plt.legend(ncol=2, loc=(0, 1.05))\n",
    "plt.ylim(-25, 25)\n",
    "plt.xlabel(\"Coefficient index\")\n",
    "plt.ylabel(\"Coefficient magnitude\")"
   ]
  },
  {
   "cell_type": "markdown",
   "metadata": {},
   "source": [
    "For alpha=1, we not only see that most of the coefficients are zero (which we already\n",
    "knew), but that the remaining coefficients are also small in magnitude. Decreasing\n",
    "alpha to 0.01, we obtain the solution shown as the green dots, which causes most\n",
    "features to be exactly zero. Using alpha=0.00001, we get a model that is quite unregularized,\n",
    "with most coefficients nonzero and of large magnitude. For comparison, the\n",
    "best Ridge solution is shown in teal. The Ridge model with alpha=0.1 has similar\n",
    "predictive performance as the lasso model with alpha=0.01, but using Ridge, all coefficients\n",
    "are nonzero."
   ]
  },
  {
   "cell_type": "markdown",
   "metadata": {},
   "source": [
    "In practice, ridge regression is usually the first choice between these two models.\n",
    "However, if you have a large amount of features and expect only a few of them to be\n",
    "important, Lasso might be a better choice. Similarly, if you would like to have a\n",
    "model that is easy to interpret, Lasso will provide a model that is easier to understand,\n",
    "as it will select only a subset of the input features. scikit-learn also provides\n",
    "the ElasticNet class, which combines the penalties of Lasso and Ridge. In practice,\n",
    "this combination works best, though at the price of having two parameters to adjust:\n",
    "one for the L1 regularization, and one for the L2 regularization."
   ]
  },
  {
   "cell_type": "markdown",
   "metadata": {},
   "source": [
    "### Linear models for classification"
   ]
  },
  {
   "cell_type": "markdown",
   "metadata": {},
   "source": [
    "Linear models are also extensively used for classification. Let’s look at binary classification\n",
    "first. In this case, a prediction is made using the following formula:\n",
    "ŷ = w[0] * x[0] + w[1] * x[1] + ... + w[p] * x[p] + b > 0\n",
    "\n",
    "The formula looks very similar to the one for linear regression, but instead of just\n",
    "returning the weighted sum of the features, we threshold the predicted value at zero.\n",
    "If the function is smaller than zero, we predict the class –1; if it is larger than zero, we\n",
    "predict the class +1. This prediction rule is common to all linear models for classification.\n",
    "Again, there are many different ways to find the coefficients (w) and the intercept\n",
    "(b).\n",
    "\n",
    "For linear models for regression, the output, ŷ, is a linear function of the features: a\n",
    "line, plane, or hyperplane (in higher dimensions). For linear models for classification,\n",
    "the decision boundary is a linear function of the input. In other words, a (binary) linear\n",
    "classifier is a classifier that separates two classes using a line, a plane, or a hyperplane.\n",
    "We will see examples of that in this section.\n",
    "\n",
    "There are many algorithms for learning linear models. These algorithms all differ in\n",
    "the following two ways:\n",
    "* The way in which they measure how well a particular combination of coefficients\n",
    "and intercept fits the training data\n",
    "* If and what kind of regularization they use"
   ]
  },
  {
   "cell_type": "markdown",
   "metadata": {},
   "source": [
    "Different algorithms choose different ways to measure what “fitting the training set\n",
    "well” means. For technical mathematical reasons, it is not possible to adjust w and b\n",
    "to minimize the number of misclassifications the algorithms produce, as one might\n",
    "hope. For our purposes, and many applications, the different choices for item 1 in the\n",
    "preceding list (called loss functions) are of little significance.\n",
    "\n",
    "The two most common linear classification algorithms are logistic regression, implemented\n",
    "in linear_model.LogisticRegression, and linear support vector machines\n",
    "(linear SVMs), implemented in svm.LinearSVC (SVC stands for support vector classifier)."
   ]
  },
  {
   "cell_type": "markdown",
   "metadata": {},
   "source": [
    "We can apply the LogisticRegression and LinearSVC models to the forge dataset,\n",
    "and visualize the decision boundary as found by the linear models."
   ]
  },
  {
   "cell_type": "code",
   "execution_count": 114,
   "metadata": {
    "collapsed": false
   },
   "outputs": [
    {
     "data": {
      "text/plain": [
       "LogisticRegression(C=1.0, class_weight=None, dual=False, fit_intercept=True,\n",
       "          intercept_scaling=1, max_iter=100, multi_class='ovr', n_jobs=1,\n",
       "          penalty='l2', random_state=None, solver='liblinear', tol=0.0001,\n",
       "          verbose=0, warm_start=False)"
      ]
     },
     "execution_count": 114,
     "metadata": {},
     "output_type": "execute_result"
    }
   ],
   "source": [
    "from sklearn.linear_model import LogisticRegression\n",
    "X, y = mglearn.datasets.make_forge()\n",
    "log_reg = LogisticRegression()\n",
    "log_reg.fit(X, y)"
   ]
  },
  {
   "cell_type": "code",
   "execution_count": 115,
   "metadata": {
    "collapsed": false
   },
   "outputs": [
    {
     "data": {
      "text/plain": [
       "LinearSVC(C=1.0, class_weight=None, dual=True, fit_intercept=True,\n",
       "     intercept_scaling=1, loss='squared_hinge', max_iter=1000,\n",
       "     multi_class='ovr', penalty='l2', random_state=None, tol=0.0001,\n",
       "     verbose=0)"
      ]
     },
     "execution_count": 115,
     "metadata": {},
     "output_type": "execute_result"
    }
   ],
   "source": [
    "from sklearn.svm import LinearSVC\n",
    "X, y = mglearn.datasets.make_forge()\n",
    "svc_clf = LinearSVC()\n",
    "svc_clf.fit(X, y)"
   ]
  },
  {
   "cell_type": "code",
   "execution_count": 116,
   "metadata": {
    "collapsed": false
   },
   "outputs": [
    {
     "data": {
      "text/plain": [
       "<matplotlib.legend.Legend at 0x11caee710>"
      ]
     },
     "execution_count": 116,
     "metadata": {},
     "output_type": "execute_result"
    },
    {
     "data": {
      "image/png": "[encoded data removed]",
      "text/plain": [
       "<matplotlib.figure.Figure at 0x11cbc9dd8>"
      ]
     },
     "metadata": {},
     "output_type": "display_data"
    }
   ],
   "source": [
    "from sklearn.linear_model import LogisticRegression\n",
    "from sklearn.svm import LinearSVC\n",
    "X, y = mglearn.datasets.make_forge()\n",
    "fig, axes = plt.subplots(1, 2, figsize=(10, 3))\n",
    "for model, ax in zip([LinearSVC(), LogisticRegression()], axes):\n",
    "    clf = model.fit(X, y)\n",
    "    mglearn.plots.plot_2d_separator(clf, X, fill=False, eps=0.5,\n",
    "    ax=ax, alpha=.7)\n",
    "    mglearn.discrete_scatter(X[:, 0], X[:, 1], y, ax=ax)\n",
    "    ax.set_title(\"{}\".format(clf.__class__.__name__))\n",
    "    ax.set_xlabel(\"Feature 0\")\n",
    "    ax.set_ylabel(\"Feature 1\")\n",
    "axes[0].legend()"
   ]
  },
  {
   "cell_type": "markdown",
   "metadata": {},
   "source": [
    "In this figure, we have the first feature of the forge dataset on the x-axis and the second\n",
    "feature on the y-axis, as before. We display the decision boundaries found by\n",
    "LinearSVC and LogisticRegression respectively as straight lines, separating the area\n",
    "classified as class 1 on the top from the area classified as class 0 on the bottom. In\n",
    "other words, any new data point that lies above the black line will be classified as class\n",
    "1 by the respective classifier, while any point that lies below the black line will be classified\n",
    "as class 0.\n",
    "\n",
    "The two models come up with similar decision boundaries. Note that both misclassify\n",
    "two of the points. By default, both models apply an L2 regularization, in the same\n",
    "way that Ridge does for regression.\n",
    "\n",
    "For LogisticRegression and LinearSVC the trade-off parameter that determines the\n",
    "strength of the regularization is called C, and higher values of C correspond to less regularization. In other words, when you use a high value for the parameter C, Logis\n",
    "ticRegression and LinearSVC try to fit the training set as best as possible, while with\n",
    "low values of the parameter C, the models put more emphasis on finding a coefficient\n",
    "vector (w) that is close to zero.\n",
    "\n",
    "There is another interesting aspect of how the parameter C acts. Using low values of C\n",
    "will cause the algorithms to try to adjust to the “majority” of data points, while using\n",
    "a higher value of C stresses the importance that each individual data point be classified\n",
    "correctly. Here is an illustration using LinearSVC"
   ]
  },
  {
   "cell_type": "code",
   "execution_count": 117,
   "metadata": {
    "collapsed": false
   },
   "outputs": [
    {
     "data": {
      "image/png": "[encoded data removed]",
      "text/plain": [
       "<matplotlib.figure.Figure at 0x11cbad160>"
      ]
     },
     "metadata": {},
     "output_type": "display_data"
    }
   ],
   "source": [
    "mglearn.plots.plot_linear_svc_regularization()"
   ]
  },
  {
   "cell_type": "markdown",
   "metadata": {},
   "source": [
    "On the lefthand side, we have a very small C corresponding to a lot of regularization.\n",
    "Most of the points in class 0 are at the top, and most of the points in class 1 are at the\n",
    "bottom. The strongly regularized model chooses a relatively horizontal line, misclassifying\n",
    "two points. In the center plot, C is slightly higher, and the model focuses more\n",
    "on the two misclassified samples, tilting the decision boundary. Finally, on the righthand\n",
    "side, the very high value of C in the model tilts the decision boundary a lot, now\n",
    "correctly classifying all points in class 0. One of the points in class 1 is still misclassified,\n",
    "as it is not possible to correctly classify all points in this dataset using a straight\n",
    "line. The model illustrated on the righthand side tries hard to correctly classify all\n",
    "points, but might not capture the overall layout of the classes well. In other words,\n",
    "this model is likely overfitting."
   ]
  },
  {
   "cell_type": "markdown",
   "metadata": {},
   "source": [
    "Similarly to the case of regression, linear models for classification might seem very\n",
    "restrictive in low-dimensional spaces, only allowing for decision boundaries that are\n",
    "straight lines or planes. Again, in high dimensions, linear models for classification become very powerful, and guarding against overfitting becomes increasingly important\n",
    "when considering more features."
   ]
  },
  {
   "cell_type": "markdown",
   "metadata": {},
   "source": [
    "Let’s analyze LinearLogistic in more detail on the Breast Cancer dataset:"
   ]
  },
  {
   "cell_type": "code",
   "execution_count": 118,
   "metadata": {
    "collapsed": false
   },
   "outputs": [
    {
     "data": {
      "text/plain": [
       "LogisticRegression(C=1.0, class_weight=None, dual=False, fit_intercept=True,\n",
       "          intercept_scaling=1, max_iter=100, multi_class='ovr', n_jobs=1,\n",
       "          penalty='l2', random_state=None, solver='liblinear', tol=0.0001,\n",
       "          verbose=0, warm_start=False)"
      ]
     },
     "execution_count": 118,
     "metadata": {},
     "output_type": "execute_result"
    }
   ],
   "source": [
    "from sklearn.datasets import load_breast_cancer\n",
    "cancer = load_breast_cancer()\n",
    "X_train, X_test, y_train, y_test = train_test_split(\n",
    "    cancer.data, cancer.target, stratify=cancer.target, random_state=42)\n",
    "\n",
    "log_reg = LogisticRegression()\n",
    "log_reg.fit(X_train, y_train)"
   ]
  },
  {
   "cell_type": "code",
   "execution_count": 119,
   "metadata": {
    "collapsed": false
   },
   "outputs": [
    {
     "data": {
      "text/plain": [
       "0.95305164319248825"
      ]
     },
     "execution_count": 119,
     "metadata": {},
     "output_type": "execute_result"
    }
   ],
   "source": [
    "log_reg.score(X_train, y_train)"
   ]
  },
  {
   "cell_type": "code",
   "execution_count": 120,
   "metadata": {
    "collapsed": false
   },
   "outputs": [
    {
     "data": {
      "text/plain": [
       "0.95804195804195802"
      ]
     },
     "execution_count": 120,
     "metadata": {},
     "output_type": "execute_result"
    }
   ],
   "source": [
    "log_reg.score(X_test, y_test)"
   ]
  },
  {
   "cell_type": "markdown",
   "metadata": {},
   "source": [
    "The default value of C=1 provides quite good performance, with 95% accuracy on\n",
    "both the training and the test set. But as training and test set performance are very\n",
    "close, it is likely that we are underfitting. Let’s try to increase C to fit a more flexible\n",
    "model:"
   ]
  },
  {
   "cell_type": "code",
   "execution_count": 121,
   "metadata": {
    "collapsed": false
   },
   "outputs": [
    {
     "data": {
      "text/plain": [
       "LogisticRegression(C=100, class_weight=None, dual=False, fit_intercept=True,\n",
       "          intercept_scaling=1, max_iter=100, multi_class='ovr', n_jobs=1,\n",
       "          penalty='l2', random_state=None, solver='liblinear', tol=0.0001,\n",
       "          verbose=0, warm_start=False)"
      ]
     },
     "execution_count": 121,
     "metadata": {},
     "output_type": "execute_result"
    }
   ],
   "source": [
    "log100_reg = LogisticRegression(C=100)\n",
    "log100_reg.fit(X_train, y_train)"
   ]
  },
  {
   "cell_type": "code",
   "execution_count": 123,
   "metadata": {
    "collapsed": false
   },
   "outputs": [
    {
     "data": {
      "text/plain": [
       "0.971830985915493"
      ]
     },
     "execution_count": 123,
     "metadata": {},
     "output_type": "execute_result"
    }
   ],
   "source": [
    "log100_reg.score(X_train, y_train)"
   ]
  },
  {
   "cell_type": "code",
   "execution_count": 124,
   "metadata": {
    "collapsed": false
   },
   "outputs": [
    {
     "data": {
      "text/plain": [
       "0.965034965034965"
      ]
     },
     "execution_count": 124,
     "metadata": {},
     "output_type": "execute_result"
    }
   ],
   "source": [
    "log100_reg.score(X_test, y_test)"
   ]
  },
  {
   "cell_type": "markdown",
   "metadata": {},
   "source": [
    "Using C=100 results in higher training set accuracy, and also a slightly increased test\n",
    "set accuracy, confirming our intuition that a more complex model should perform\n",
    "better."
   ]
  },
  {
   "cell_type": "markdown",
   "metadata": {},
   "source": [
    "We can also investigate what happens if we use an even more regularized model than\n",
    "the default of C=1, by setting C=0.01."
   ]
  },
  {
   "cell_type": "code",
   "execution_count": 126,
   "metadata": {
    "collapsed": false
   },
   "outputs": [
    {
     "data": {
      "text/plain": [
       "LogisticRegression(C=0.01, class_weight=None, dual=False, fit_intercept=True,\n",
       "          intercept_scaling=1, max_iter=100, multi_class='ovr', n_jobs=1,\n",
       "          penalty='l2', random_state=None, solver='liblinear', tol=0.0001,\n",
       "          verbose=0, warm_start=False)"
      ]
     },
     "execution_count": 126,
     "metadata": {},
     "output_type": "execute_result"
    }
   ],
   "source": [
    "log001_reg = LogisticRegression(C=0.01)\n",
    "log001_reg.fit(X_train, y_train)"
   ]
  },
  {
   "cell_type": "code",
   "execution_count": 127,
   "metadata": {
    "collapsed": false
   },
   "outputs": [
    {
     "data": {
      "text/plain": [
       "0.93427230046948362"
      ]
     },
     "execution_count": 127,
     "metadata": {},
     "output_type": "execute_result"
    }
   ],
   "source": [
    "log001_reg.score(X_train, y_train)"
   ]
  },
  {
   "cell_type": "code",
   "execution_count": 128,
   "metadata": {
    "collapsed": false
   },
   "outputs": [
    {
     "data": {
      "text/plain": [
       "0.93006993006993011"
      ]
     },
     "execution_count": 128,
     "metadata": {},
     "output_type": "execute_result"
    }
   ],
   "source": [
    "log001_reg.score(X_test, y_test)"
   ]
  },
  {
   "cell_type": "markdown",
   "metadata": {},
   "source": [
    "As expected, when moving more to the left along the scale shown in Figure 2-1 from\n",
    "an already underfit model, both training and test set accuracy decrease relative to the\n",
    "default parameters."
   ]
  },
  {
   "cell_type": "markdown",
   "metadata": {},
   "source": [
    "Finally, let’s look at the coefficients learned by the models with the three different settings\n",
    "of the regularization parameter C."
   ]
  },
  {
   "cell_type": "code",
   "execution_count": 129,
   "metadata": {
    "collapsed": false
   },
   "outputs": [
    {
     "data": {
      "text/plain": [
       "<matplotlib.legend.Legend at 0x11cab0a90>"
      ]
     },
     "execution_count": 129,
     "metadata": {},
     "output_type": "execute_result"
    },
    {
     "data": {
      "image/png": "[encoded data removed]",
      "text/plain": [
       "<matplotlib.figure.Figure at 0x11cb0d1d0>"
      ]
     },
     "metadata": {},
     "output_type": "display_data"
    }
   ],
   "source": [
    "plt.plot(log_reg.coef_.T, 'o', label=\"C=1\")\n",
    "plt.plot(log100_reg.coef_.T, '^', label=\"C=100\")\n",
    "plt.plot(log001_reg.coef_.T, 'v', label=\"C=0.001\")\n",
    "plt.xticks(range(cancer.data.shape[1]), cancer.feature_names, rotation=90)\n",
    "plt.hlines(0, 0, cancer.data.shape[1])\n",
    "plt.ylim(-5, 5)\n",
    "plt.xlabel(\"Coefficient index\")\n",
    "plt.ylabel(\"Coefficient magnitude\")\n",
    "plt.legend()"
   ]
  },
  {
   "cell_type": "markdown",
   "metadata": {},
   "source": [
    "As LogisticRegression applies an L2 regularization by default,\n",
    "the result looks similar to that produced by Ridge in Figure 2-12.\n",
    "Stronger regularization pushes coefficients more and more toward\n",
    "zero, though coefficients never become exactly zero. Inspecting the\n",
    "plot more closely, we can also see an interesting effect in the third\n",
    "coefficient, for “mean perimeter.” For C=100 and C=1, the coefficient\n",
    "is negative, while for C=0.001, the coefficient is positive, with a\n",
    "magnitude that is even larger than for C=1. Interpreting a model\n",
    "like this, one might think the coefficient tells us which class a feature\n",
    "is associated with. For example, one might think that a high\n",
    "“texture error” feature is related to a sample being “malignant.”\n",
    "However, the change of sign in the coefficient for “mean perimeter”\n",
    "means that depending on which model we look at, a high “mean\n",
    "perimeter” could be taken as being either indicative of “benign” or\n",
    "indicative of “malignant.” This illustrates that interpretations of\n",
    "coefficients of linear models should always be taken with a grain of\n",
    "salt."
   ]
  },
  {
   "cell_type": "markdown",
   "metadata": {},
   "source": [
    "If we desire a more interpretable model, using L1 regularization might help, as it limits\n",
    "the model to using only a few features. Here is the coefficient plot and classification\n",
    "accuracies for L1 regularization (Figure 2-18):"
   ]
  },
  {
   "cell_type": "code",
   "execution_count": 130,
   "metadata": {
    "collapsed": false
   },
   "outputs": [
    {
     "name": "stdout",
     "output_type": "stream",
     "text": [
      "Training accuracy of l1 logreg with C=0.001: 0.91\n",
      "Test accuracy of l1 logreg with C=0.001: 0.92\n",
      "Training accuracy of l1 logreg with C=1.000: 0.96\n",
      "Test accuracy of l1 logreg with C=1.000: 0.96\n",
      "Training accuracy of l1 logreg with C=100.000: 0.99\n",
      "Test accuracy of l1 logreg with C=100.000: 0.98\n"
     ]
    },
    {
     "data": {
      "text/plain": [
       "<matplotlib.legend.Legend at 0x11e5b7f98>"
      ]
     },
     "execution_count": 130,
     "metadata": {},
     "output_type": "execute_result"
    },
    {
     "data": {
      "image/png": "[encoded data removed]",
      "text/plain": [
       "<matplotlib.figure.Figure at 0x11caa3438>"
      ]
     },
     "metadata": {},
     "output_type": "display_data"
    }
   ],
   "source": [
    "for C, marker in zip([0.001, 1, 100], ['o', '^', 'v']):\n",
    "    lr_l1 = LogisticRegression(C=C, penalty=\"l1\").fit(X_train, y_train)\n",
    "    print(\"Training accuracy of l1 logreg with C={:.3f}: {:.2f}\".format(\n",
    "          C, lr_l1.score(X_train, y_train)))\n",
    "    print(\"Test accuracy of l1 logreg with C={:.3f}: {:.2f}\".format(\n",
    "          C, lr_l1.score(X_test, y_test)))\n",
    "plt.plot(lr_l1.coef_.T, marker, label=\"C={:.3f}\".format(C))\n",
    "plt.xticks(range(cancer.data.shape[1]), cancer.feature_names, rotation=90)\n",
    "plt.hlines(0, 0, cancer.data.shape[1])\n",
    "plt.xlabel(\"Coefficient index\")\n",
    "plt.ylabel(\"Coefficient magnitude\")\n",
    "plt.ylim(-5, 5)\n",
    "plt.legend(loc=3)"
   ]
  },
  {
   "cell_type": "markdown",
   "metadata": {},
   "source": [
    "As you can see, there are many parallels between linear models for binary classification\n",
    "and linear models for regression. As in regression, the main difference between\n",
    "the models is the penalty parameter, which influences the regularization and\n",
    "whether the model will use all available features or select only a subset."
   ]
  },
  {
   "cell_type": "code",
   "execution_count": null,
   "metadata": {
    "collapsed": true
   },
   "outputs": [],
   "source": []
  },
  {
   "cell_type": "code",
   "execution_count": null,
   "metadata": {
    "collapsed": true
   },
   "outputs": [],
   "source": []
  },
  {
   "cell_type": "code",
   "execution_count": null,
   "metadata": {
    "collapsed": true
   },
   "outputs": [],
   "source": []
  }
 ],
 "metadata": {
  "kernelspec": {
   "display_name": "Python 3",
   "language": "python",
   "name": "python3"
  },
  "language_info": {
   "codemirror_mode": {
    "name": "ipython",
    "version": 3
   },
   "file_extension": ".py",
   "mimetype": "text/x-python",
   "name": "python",
   "nbconvert_exporter": "python",
   "pygments_lexer": "ipython3",
   "version": "3.6.3"
  }
 },
 "nbformat": 4,
 "nbformat_minor": 2
}
